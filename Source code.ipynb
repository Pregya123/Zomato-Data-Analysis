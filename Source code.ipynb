# Step 1-Importing Libraries
# Zomato Data Analysis Project
#pandas is used for data manipulation and analysis.
#numpy is used for numerical operations.
#matplotlib.pyplot and seaborn are used for data visualization

import pandas as pd
import numpy as np
import matplotlib.pyplot as plt
import seaborn as sns

# Step 2-Import the Data Frame
dataframe = pd.read_csv("C:/Users/khushi/Downloads/Zomato data .csv")
print(dataframe)


# Convert the data type of column-rate

def handleRate(value):
    value=str(value).split('/')
    value=value[0];
    return float(value)

dataframe['rate']=dataframe['rate'].apply(handleRate)
print(dataframe.head())

# Type of Resturant
sns.countplot(x=dataframe['listed_in(type)'])
plt.xlabel("type of resturant")

# Conclusion-Majority of the resturant falls in the dinning category

grouped_data = dataframe.groupby('listed_in(type)')['votes'].sum()
result = pd.DataFrame({'votes': grouped_data})
plt.plot(result, c="green", marker="o")
plt.xlabel("Type of resturant", c="red", size=20)
plt.ylabel("Votes", c="red", size=20)

# Conclusion-dinning resturants has recieved maximum votes

plt.hist(dataframe['rate'],bins =5)
plt.title("ratings distrinution")
plt.show()

# Conclusion-the majority resturants recieved ratings from 3.5 to 4
# Average order spending by couples

couple_data=dataframe['approx_cost(for two people)']
sns.countplot(x=couple_data)

# Conclusion - the majority of couples prefer resturants with an approximate cost of 300 rupees

plt.figure(figsize=(6, 6))
sns.boxplot(x='online_order', y='rate', data=dataframe)

# conclusion-offline order recieved lower rating in comparison to online order 

pivot_table = dataframe.pivot_table(index='listed_in(type)', columns='online_order', aggfunc='size', fill_value=0)
sns.heatmap(pivot_table, annot=True, cmap="YlGnBu", fmt='d')
plt.title("Heatmap")
plt.xlabel("Online Order")
plt.ylabel("Listed In (Type)")
plt.show()
    
